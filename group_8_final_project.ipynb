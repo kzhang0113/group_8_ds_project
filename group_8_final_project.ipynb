{
 "cells": [
  {
   "cell_type": "markdown",
   "metadata": {},
   "source": [
    "# **Group 8 Project - User Knowledge Modeling Data Set**\n",
    "Authors: Minting Fu, Zeti Batrisha Jamiluddin Amini, Liz Ji, Caroline Zhang"
   ]
  },
  {
   "cell_type": "markdown",
   "metadata": {},
   "source": [
    "## Introduction\n",
    "\n",
    "In this project, we will study a dataset of 403 real user knowledge status in the area of Electrical DC Machines to understand how the user knowledge level is determined. Good academic performances are pursued both by students and educational institutions. In order to find a more efficient way to study and gain better academic scores, we need to further explore and analyze the User Knowledge dataset, which can be found <a href = \"https://archive.ics.uci.edu/ml/datasets/User+Knowledge+Modeling\" target = \"_blank\">here</a>.\n",
    "\n",
    "We would like to investigate this question through our project:\n",
    "\n",
    "* Is there a relationship between STG, SCG, STR, LPR, PEG and UNS? (ie. Which of STG, SCG, STR, LPR, PEG are contributing factors to UNS and how can we predict UNS better?)\n",
    "\n",
    "We will be looking at 5 different variables to predict the knowledge level of users (UNS). These variables are:\n",
    "\n",
    "* STG : the degree of study time for goal object materails.\n",
    "* SCG : the degree of repetition number of user for goal object materails.\n",
    "* STR : the degree of study time of user for related objects with goal object.\n",
    "* LPR : the exam performance of user for related objects with goal object.\n",
    "* PEG : the exam performance of user for goal objects."
   ]
  },
  {
   "cell_type": "markdown",
   "metadata": {},
   "source": [
    "## Methods"
   ]
  },
  {
   "cell_type": "markdown",
   "metadata": {},
   "source": [
    "The first thing we do is to import the pacakges we are going to use for the entire project."
   ]
  },
  {
   "cell_type": "code",
   "execution_count": 17,
   "metadata": {},
   "outputs": [],
   "source": [
    "library(readxl)\n",
    "library(tidyverse)\n",
    "library(repr)\n",
    "library(tidymodels)\n",
    "library(GGally)\n",
    "options(repr.matrix.max.rows = 6)"
   ]
  },
  {
   "cell_type": "code",
   "execution_count": 18,
   "metadata": {},
   "outputs": [],
   "source": [
    "#Using the set.seed function to make sure our code is reproducible\n",
    "set.seed(7)"
   ]
  },
  {
   "cell_type": "markdown",
   "metadata": {},
   "source": [
    "We will download and read the dataset. Since the dataset has been seperated into training and testing data ahead, we will read two datasets seperatedly as `training_data` and `testing_data`. "
   ]
  },
  {
   "cell_type": "code",
   "execution_count": 19,
   "metadata": {},
   "outputs": [
    {
     "name": "stdout",
     "output_type": "stream",
     "text": [
      "[1] \"Training Data\"\n"
     ]
    },
    {
     "data": {
      "text/html": [
       "<table>\n",
       "<caption>A tibble: 258 × 6</caption>\n",
       "<thead>\n",
       "\t<tr><th scope=col>STG</th><th scope=col>SCG</th><th scope=col>STR</th><th scope=col>LPR</th><th scope=col>PEG</th><th scope=col>UNS</th></tr>\n",
       "\t<tr><th scope=col>&lt;dbl&gt;</th><th scope=col>&lt;dbl&gt;</th><th scope=col>&lt;dbl&gt;</th><th scope=col>&lt;dbl&gt;</th><th scope=col>&lt;dbl&gt;</th><th scope=col>&lt;chr&gt;</th></tr>\n",
       "</thead>\n",
       "<tbody>\n",
       "\t<tr><td>0.00</td><td>0.00</td><td>0.00</td><td>0.00</td><td>0.00</td><td>very_low</td></tr>\n",
       "\t<tr><td>0.08</td><td>0.08</td><td>0.10</td><td>0.24</td><td>0.90</td><td>High    </td></tr>\n",
       "\t<tr><td>0.06</td><td>0.06</td><td>0.05</td><td>0.25</td><td>0.33</td><td>Low     </td></tr>\n",
       "\t<tr><td>⋮</td><td>⋮</td><td>⋮</td><td>⋮</td><td>⋮</td><td>⋮</td></tr>\n",
       "\t<tr><td>0.54</td><td>0.82</td><td>0.71</td><td>0.29</td><td>0.77</td><td>High  </td></tr>\n",
       "\t<tr><td>0.50</td><td>0.75</td><td>0.81</td><td>0.61</td><td>0.26</td><td>Middle</td></tr>\n",
       "\t<tr><td>0.66</td><td>0.90</td><td>0.76</td><td>0.87</td><td>0.74</td><td>High  </td></tr>\n",
       "</tbody>\n",
       "</table>\n"
      ],
      "text/latex": [
       "A tibble: 258 × 6\n",
       "\\begin{tabular}{llllll}\n",
       " STG & SCG & STR & LPR & PEG & UNS\\\\\n",
       " <dbl> & <dbl> & <dbl> & <dbl> & <dbl> & <chr>\\\\\n",
       "\\hline\n",
       "\t 0.00 & 0.00 & 0.00 & 0.00 & 0.00 & very\\_low\\\\\n",
       "\t 0.08 & 0.08 & 0.10 & 0.24 & 0.90 & High    \\\\\n",
       "\t 0.06 & 0.06 & 0.05 & 0.25 & 0.33 & Low     \\\\\n",
       "\t ⋮ & ⋮ & ⋮ & ⋮ & ⋮ & ⋮\\\\\n",
       "\t 0.54 & 0.82 & 0.71 & 0.29 & 0.77 & High  \\\\\n",
       "\t 0.50 & 0.75 & 0.81 & 0.61 & 0.26 & Middle\\\\\n",
       "\t 0.66 & 0.90 & 0.76 & 0.87 & 0.74 & High  \\\\\n",
       "\\end{tabular}\n"
      ],
      "text/markdown": [
       "\n",
       "A tibble: 258 × 6\n",
       "\n",
       "| STG &lt;dbl&gt; | SCG &lt;dbl&gt; | STR &lt;dbl&gt; | LPR &lt;dbl&gt; | PEG &lt;dbl&gt; | UNS &lt;chr&gt; |\n",
       "|---|---|---|---|---|---|\n",
       "| 0.00 | 0.00 | 0.00 | 0.00 | 0.00 | very_low |\n",
       "| 0.08 | 0.08 | 0.10 | 0.24 | 0.90 | High     |\n",
       "| 0.06 | 0.06 | 0.05 | 0.25 | 0.33 | Low      |\n",
       "| ⋮ | ⋮ | ⋮ | ⋮ | ⋮ | ⋮ |\n",
       "| 0.54 | 0.82 | 0.71 | 0.29 | 0.77 | High   |\n",
       "| 0.50 | 0.75 | 0.81 | 0.61 | 0.26 | Middle |\n",
       "| 0.66 | 0.90 | 0.76 | 0.87 | 0.74 | High   |\n",
       "\n"
      ],
      "text/plain": [
       "    STG  SCG  STR  LPR  PEG  UNS     \n",
       "1   0.00 0.00 0.00 0.00 0.00 very_low\n",
       "2   0.08 0.08 0.10 0.24 0.90 High    \n",
       "3   0.06 0.06 0.05 0.25 0.33 Low     \n",
       "⋮   ⋮    ⋮    ⋮    ⋮    ⋮    ⋮       \n",
       "256 0.54 0.82 0.71 0.29 0.77 High    \n",
       "257 0.50 0.75 0.81 0.61 0.26 Middle  \n",
       "258 0.66 0.90 0.76 0.87 0.74 High    "
      ]
     },
     "metadata": {},
     "output_type": "display_data"
    },
    {
     "name": "stdout",
     "output_type": "stream",
     "text": [
      "[1] \"Testing Data\"\n"
     ]
    },
    {
     "data": {
      "text/html": [
       "<table>\n",
       "<caption>A tibble: 145 × 6</caption>\n",
       "<thead>\n",
       "\t<tr><th scope=col>STG</th><th scope=col>SCG</th><th scope=col>STR</th><th scope=col>LPR</th><th scope=col>PEG</th><th scope=col>UNS</th></tr>\n",
       "\t<tr><th scope=col>&lt;dbl&gt;</th><th scope=col>&lt;dbl&gt;</th><th scope=col>&lt;dbl&gt;</th><th scope=col>&lt;dbl&gt;</th><th scope=col>&lt;dbl&gt;</th><th scope=col>&lt;chr&gt;</th></tr>\n",
       "</thead>\n",
       "<tbody>\n",
       "\t<tr><td>0.00</td><td>0.10</td><td>0.50</td><td>0.26</td><td>0.05</td><td>Very Low</td></tr>\n",
       "\t<tr><td>0.05</td><td>0.05</td><td>0.55</td><td>0.60</td><td>0.14</td><td>Low     </td></tr>\n",
       "\t<tr><td>0.08</td><td>0.18</td><td>0.63</td><td>0.60</td><td>0.85</td><td>High    </td></tr>\n",
       "\t<tr><td>⋮</td><td>⋮</td><td>⋮</td><td>⋮</td><td>⋮</td><td>⋮</td></tr>\n",
       "\t<tr><td>0.56</td><td>0.60</td><td>0.77</td><td>0.13</td><td>0.32</td><td>Low   </td></tr>\n",
       "\t<tr><td>0.66</td><td>0.68</td><td>0.81</td><td>0.57</td><td>0.57</td><td>Middle</td></tr>\n",
       "\t<tr><td>0.68</td><td>0.64</td><td>0.79</td><td>0.97</td><td>0.24</td><td>Middle</td></tr>\n",
       "</tbody>\n",
       "</table>\n"
      ],
      "text/latex": [
       "A tibble: 145 × 6\n",
       "\\begin{tabular}{llllll}\n",
       " STG & SCG & STR & LPR & PEG & UNS\\\\\n",
       " <dbl> & <dbl> & <dbl> & <dbl> & <dbl> & <chr>\\\\\n",
       "\\hline\n",
       "\t 0.00 & 0.10 & 0.50 & 0.26 & 0.05 & Very Low\\\\\n",
       "\t 0.05 & 0.05 & 0.55 & 0.60 & 0.14 & Low     \\\\\n",
       "\t 0.08 & 0.18 & 0.63 & 0.60 & 0.85 & High    \\\\\n",
       "\t ⋮ & ⋮ & ⋮ & ⋮ & ⋮ & ⋮\\\\\n",
       "\t 0.56 & 0.60 & 0.77 & 0.13 & 0.32 & Low   \\\\\n",
       "\t 0.66 & 0.68 & 0.81 & 0.57 & 0.57 & Middle\\\\\n",
       "\t 0.68 & 0.64 & 0.79 & 0.97 & 0.24 & Middle\\\\\n",
       "\\end{tabular}\n"
      ],
      "text/markdown": [
       "\n",
       "A tibble: 145 × 6\n",
       "\n",
       "| STG &lt;dbl&gt; | SCG &lt;dbl&gt; | STR &lt;dbl&gt; | LPR &lt;dbl&gt; | PEG &lt;dbl&gt; | UNS &lt;chr&gt; |\n",
       "|---|---|---|---|---|---|\n",
       "| 0.00 | 0.10 | 0.50 | 0.26 | 0.05 | Very Low |\n",
       "| 0.05 | 0.05 | 0.55 | 0.60 | 0.14 | Low      |\n",
       "| 0.08 | 0.18 | 0.63 | 0.60 | 0.85 | High     |\n",
       "| ⋮ | ⋮ | ⋮ | ⋮ | ⋮ | ⋮ |\n",
       "| 0.56 | 0.60 | 0.77 | 0.13 | 0.32 | Low    |\n",
       "| 0.66 | 0.68 | 0.81 | 0.57 | 0.57 | Middle |\n",
       "| 0.68 | 0.64 | 0.79 | 0.97 | 0.24 | Middle |\n",
       "\n"
      ],
      "text/plain": [
       "    STG  SCG  STR  LPR  PEG  UNS     \n",
       "1   0.00 0.10 0.50 0.26 0.05 Very Low\n",
       "2   0.05 0.05 0.55 0.60 0.14 Low     \n",
       "3   0.08 0.18 0.63 0.60 0.85 High    \n",
       "⋮   ⋮    ⋮    ⋮    ⋮    ⋮    ⋮       \n",
       "143 0.56 0.60 0.77 0.13 0.32 Low     \n",
       "144 0.66 0.68 0.81 0.57 0.57 Middle  \n",
       "145 0.68 0.64 0.79 0.97 0.24 Middle  "
      ]
     },
     "metadata": {},
     "output_type": "display_data"
    }
   ],
   "source": [
    "# download the file from the website\n",
    "url <- 'https://archive.ics.uci.edu/ml/machine-learning-databases/00257/Data_User_Modeling_Dataset_Hamdi%20Tolga%20KAHRAMAN.xls'\n",
    "download.file(url, destfile='data/user_knowledge_data.xls')\n",
    "\n",
    "# read the dataset\n",
    "training_data <- read_excel('data/user_knowledge_data.xls', sheet=2, range='A1:F259')           \n",
    "print(\"Training Data\")\n",
    "training_data\n",
    "\n",
    "testing_data <- read_excel('data/user_knowledge_data.xls', sheet=3, range='A1:F146')\n",
    "print(\"Testing Data\")\n",
    "testing_data"
   ]
  },
  {
   "cell_type": "markdown",
   "metadata": {},
   "source": [
    "As we can see from the two datasets above, they are almost clean. We only need to change the data type of the UNS variable to factor so that it's more convenient for our further prediction. And another thing we will do is to unite UNS values into the same format of both training and testing dataset. We will also test whether there are missing data in two datasets."
   ]
  },
  {
   "cell_type": "code",
   "execution_count": 20,
   "metadata": {},
   "outputs": [
    {
     "data": {
      "text/html": [
       "<table>\n",
       "<caption>A tibble: 258 × 6</caption>\n",
       "<thead>\n",
       "\t<tr><th scope=col>STG</th><th scope=col>SCG</th><th scope=col>STR</th><th scope=col>LPR</th><th scope=col>PEG</th><th scope=col>UNS</th></tr>\n",
       "\t<tr><th scope=col>&lt;dbl&gt;</th><th scope=col>&lt;dbl&gt;</th><th scope=col>&lt;dbl&gt;</th><th scope=col>&lt;dbl&gt;</th><th scope=col>&lt;dbl&gt;</th><th scope=col>&lt;chr&gt;</th></tr>\n",
       "</thead>\n",
       "<tbody>\n",
       "\t<tr><td>0.00</td><td>0.00</td><td>0.00</td><td>0.00</td><td>0.00</td><td>very_low</td></tr>\n",
       "\t<tr><td>0.08</td><td>0.08</td><td>0.10</td><td>0.24</td><td>0.90</td><td>high    </td></tr>\n",
       "\t<tr><td>0.06</td><td>0.06</td><td>0.05</td><td>0.25</td><td>0.33</td><td>low     </td></tr>\n",
       "\t<tr><td>⋮</td><td>⋮</td><td>⋮</td><td>⋮</td><td>⋮</td><td>⋮</td></tr>\n",
       "\t<tr><td>0.54</td><td>0.82</td><td>0.71</td><td>0.29</td><td>0.77</td><td>high  </td></tr>\n",
       "\t<tr><td>0.50</td><td>0.75</td><td>0.81</td><td>0.61</td><td>0.26</td><td>middle</td></tr>\n",
       "\t<tr><td>0.66</td><td>0.90</td><td>0.76</td><td>0.87</td><td>0.74</td><td>high  </td></tr>\n",
       "</tbody>\n",
       "</table>\n"
      ],
      "text/latex": [
       "A tibble: 258 × 6\n",
       "\\begin{tabular}{llllll}\n",
       " STG & SCG & STR & LPR & PEG & UNS\\\\\n",
       " <dbl> & <dbl> & <dbl> & <dbl> & <dbl> & <chr>\\\\\n",
       "\\hline\n",
       "\t 0.00 & 0.00 & 0.00 & 0.00 & 0.00 & very\\_low\\\\\n",
       "\t 0.08 & 0.08 & 0.10 & 0.24 & 0.90 & high    \\\\\n",
       "\t 0.06 & 0.06 & 0.05 & 0.25 & 0.33 & low     \\\\\n",
       "\t ⋮ & ⋮ & ⋮ & ⋮ & ⋮ & ⋮\\\\\n",
       "\t 0.54 & 0.82 & 0.71 & 0.29 & 0.77 & high  \\\\\n",
       "\t 0.50 & 0.75 & 0.81 & 0.61 & 0.26 & middle\\\\\n",
       "\t 0.66 & 0.90 & 0.76 & 0.87 & 0.74 & high  \\\\\n",
       "\\end{tabular}\n"
      ],
      "text/markdown": [
       "\n",
       "A tibble: 258 × 6\n",
       "\n",
       "| STG &lt;dbl&gt; | SCG &lt;dbl&gt; | STR &lt;dbl&gt; | LPR &lt;dbl&gt; | PEG &lt;dbl&gt; | UNS &lt;chr&gt; |\n",
       "|---|---|---|---|---|---|\n",
       "| 0.00 | 0.00 | 0.00 | 0.00 | 0.00 | very_low |\n",
       "| 0.08 | 0.08 | 0.10 | 0.24 | 0.90 | high     |\n",
       "| 0.06 | 0.06 | 0.05 | 0.25 | 0.33 | low      |\n",
       "| ⋮ | ⋮ | ⋮ | ⋮ | ⋮ | ⋮ |\n",
       "| 0.54 | 0.82 | 0.71 | 0.29 | 0.77 | high   |\n",
       "| 0.50 | 0.75 | 0.81 | 0.61 | 0.26 | middle |\n",
       "| 0.66 | 0.90 | 0.76 | 0.87 | 0.74 | high   |\n",
       "\n"
      ],
      "text/plain": [
       "    STG  SCG  STR  LPR  PEG  UNS     \n",
       "1   0.00 0.00 0.00 0.00 0.00 very_low\n",
       "2   0.08 0.08 0.10 0.24 0.90 high    \n",
       "3   0.06 0.06 0.05 0.25 0.33 low     \n",
       "⋮   ⋮    ⋮    ⋮    ⋮    ⋮    ⋮       \n",
       "256 0.54 0.82 0.71 0.29 0.77 high    \n",
       "257 0.50 0.75 0.81 0.61 0.26 middle  \n",
       "258 0.66 0.90 0.76 0.87 0.74 high    "
      ]
     },
     "metadata": {},
     "output_type": "display_data"
    },
    {
     "data": {
      "text/html": [
       "<table>\n",
       "<caption>A tibble: 145 × 6</caption>\n",
       "<thead>\n",
       "\t<tr><th scope=col>STG</th><th scope=col>SCG</th><th scope=col>STR</th><th scope=col>LPR</th><th scope=col>PEG</th><th scope=col>UNS</th></tr>\n",
       "\t<tr><th scope=col>&lt;dbl&gt;</th><th scope=col>&lt;dbl&gt;</th><th scope=col>&lt;dbl&gt;</th><th scope=col>&lt;dbl&gt;</th><th scope=col>&lt;dbl&gt;</th><th scope=col>&lt;chr&gt;</th></tr>\n",
       "</thead>\n",
       "<tbody>\n",
       "\t<tr><td>0.00</td><td>0.10</td><td>0.50</td><td>0.26</td><td>0.05</td><td>very_low</td></tr>\n",
       "\t<tr><td>0.05</td><td>0.05</td><td>0.55</td><td>0.60</td><td>0.14</td><td>low     </td></tr>\n",
       "\t<tr><td>0.08</td><td>0.18</td><td>0.63</td><td>0.60</td><td>0.85</td><td>high    </td></tr>\n",
       "\t<tr><td>⋮</td><td>⋮</td><td>⋮</td><td>⋮</td><td>⋮</td><td>⋮</td></tr>\n",
       "\t<tr><td>0.56</td><td>0.60</td><td>0.77</td><td>0.13</td><td>0.32</td><td>low   </td></tr>\n",
       "\t<tr><td>0.66</td><td>0.68</td><td>0.81</td><td>0.57</td><td>0.57</td><td>middle</td></tr>\n",
       "\t<tr><td>0.68</td><td>0.64</td><td>0.79</td><td>0.97</td><td>0.24</td><td>middle</td></tr>\n",
       "</tbody>\n",
       "</table>\n"
      ],
      "text/latex": [
       "A tibble: 145 × 6\n",
       "\\begin{tabular}{llllll}\n",
       " STG & SCG & STR & LPR & PEG & UNS\\\\\n",
       " <dbl> & <dbl> & <dbl> & <dbl> & <dbl> & <chr>\\\\\n",
       "\\hline\n",
       "\t 0.00 & 0.10 & 0.50 & 0.26 & 0.05 & very\\_low\\\\\n",
       "\t 0.05 & 0.05 & 0.55 & 0.60 & 0.14 & low     \\\\\n",
       "\t 0.08 & 0.18 & 0.63 & 0.60 & 0.85 & high    \\\\\n",
       "\t ⋮ & ⋮ & ⋮ & ⋮ & ⋮ & ⋮\\\\\n",
       "\t 0.56 & 0.60 & 0.77 & 0.13 & 0.32 & low   \\\\\n",
       "\t 0.66 & 0.68 & 0.81 & 0.57 & 0.57 & middle\\\\\n",
       "\t 0.68 & 0.64 & 0.79 & 0.97 & 0.24 & middle\\\\\n",
       "\\end{tabular}\n"
      ],
      "text/markdown": [
       "\n",
       "A tibble: 145 × 6\n",
       "\n",
       "| STG &lt;dbl&gt; | SCG &lt;dbl&gt; | STR &lt;dbl&gt; | LPR &lt;dbl&gt; | PEG &lt;dbl&gt; | UNS &lt;chr&gt; |\n",
       "|---|---|---|---|---|---|\n",
       "| 0.00 | 0.10 | 0.50 | 0.26 | 0.05 | very_low |\n",
       "| 0.05 | 0.05 | 0.55 | 0.60 | 0.14 | low      |\n",
       "| 0.08 | 0.18 | 0.63 | 0.60 | 0.85 | high     |\n",
       "| ⋮ | ⋮ | ⋮ | ⋮ | ⋮ | ⋮ |\n",
       "| 0.56 | 0.60 | 0.77 | 0.13 | 0.32 | low    |\n",
       "| 0.66 | 0.68 | 0.81 | 0.57 | 0.57 | middle |\n",
       "| 0.68 | 0.64 | 0.79 | 0.97 | 0.24 | middle |\n",
       "\n"
      ],
      "text/plain": [
       "    STG  SCG  STR  LPR  PEG  UNS     \n",
       "1   0.00 0.10 0.50 0.26 0.05 very_low\n",
       "2   0.05 0.05 0.55 0.60 0.14 low     \n",
       "3   0.08 0.18 0.63 0.60 0.85 high    \n",
       "⋮   ⋮    ⋮    ⋮    ⋮    ⋮    ⋮       \n",
       "143 0.56 0.60 0.77 0.13 0.32 low     \n",
       "144 0.66 0.68 0.81 0.57 0.57 middle  \n",
       "145 0.68 0.64 0.79 0.97 0.24 middle  "
      ]
     },
     "metadata": {},
     "output_type": "display_data"
    },
    {
     "data": {
      "text/html": [
       "'The number of missing data in training data: 0'"
      ],
      "text/latex": [
       "'The number of missing data in training data: 0'"
      ],
      "text/markdown": [
       "'The number of missing data in training data: 0'"
      ],
      "text/plain": [
       "[1] \"The number of missing data in training data: 0\""
      ]
     },
     "metadata": {},
     "output_type": "display_data"
    },
    {
     "data": {
      "text/html": [
       "'The number of missing data in testing data: 0'"
      ],
      "text/latex": [
       "'The number of missing data in testing data: 0'"
      ],
      "text/markdown": [
       "'The number of missing data in testing data: 0'"
      ],
      "text/plain": [
       "[1] \"The number of missing data in testing data: 0\""
      ]
     },
     "metadata": {},
     "output_type": "display_data"
    }
   ],
   "source": [
    "# clean the training and testing data, and making sure that the target variable, UNS, is a factor type\n",
    "training_data <- mutate(training_data, UNS = as_factor(UNS))\n",
    "testing_data <- mutate(testing_data, UNS = as_factor(UNS))\n",
    "\n",
    "# unite value format\n",
    "training_data$UNS = tolower(training_data$UNS)\n",
    "training_data\n",
    "\n",
    "testing_data$UNS = tolower(testing_data$UNS)\n",
    "testing_data <- testing_data %>%\n",
    "    mutate(UNS = str_replace(UNS, \" \", \"_\"))\n",
    "testing_data\n",
    "\n",
    "# test missing values\n",
    "sprintf(\"The number of missing data in training data: %s\", sum(is.na(training_data)))\n",
    "sprintf(\"The number of missing data in testing data: %s\", sum(is.na(testing_data)))"
   ]
  },
  {
   "cell_type": "markdown",
   "metadata": {},
   "source": [
    "There are no missing values in our training and testing datasets."
   ]
  },
  {
   "cell_type": "markdown",
   "metadata": {},
   "source": [
    "**And now We can see from each table above:**\n",
    "\n",
    "    1. each row is a single observation\n",
    "    2. each column is a single variable \n",
    "    3. each value is a single cell\n",
    "**Therefore, the training set and testing set are clean and tidy now.**\n",
    "\n",
    "**We also notice that `the proportion of the training_data is around 64%`, and `the proportion of the test data is around 36%` from calculation.**"
   ]
  },
  {
   "cell_type": "markdown",
   "metadata": {},
   "source": [
    "### Summarization"
   ]
  },
  {
   "cell_type": "markdown",
   "metadata": {},
   "source": [
    "Now we are going to summarize the training dataset information."
   ]
  },
  {
   "cell_type": "code",
   "execution_count": 21,
   "metadata": {},
   "outputs": [
    {
     "name": "stdout",
     "output_type": "stream",
     "text": [
      "[1] \"The maximum value of each predictors\"\n"
     ]
    },
    {
     "data": {
      "text/html": [
       "<table>\n",
       "<caption>A tibble: 1 × 5</caption>\n",
       "<thead>\n",
       "\t<tr><th scope=col>STG</th><th scope=col>SCG</th><th scope=col>STR</th><th scope=col>LPR</th><th scope=col>PEG</th></tr>\n",
       "\t<tr><th scope=col>&lt;dbl&gt;</th><th scope=col>&lt;dbl&gt;</th><th scope=col>&lt;dbl&gt;</th><th scope=col>&lt;dbl&gt;</th><th scope=col>&lt;dbl&gt;</th></tr>\n",
       "</thead>\n",
       "<tbody>\n",
       "\t<tr><td>0.99</td><td>0.9</td><td>0.95</td><td>0.99</td><td>0.93</td></tr>\n",
       "</tbody>\n",
       "</table>\n"
      ],
      "text/latex": [
       "A tibble: 1 × 5\n",
       "\\begin{tabular}{lllll}\n",
       " STG & SCG & STR & LPR & PEG\\\\\n",
       " <dbl> & <dbl> & <dbl> & <dbl> & <dbl>\\\\\n",
       "\\hline\n",
       "\t 0.99 & 0.9 & 0.95 & 0.99 & 0.93\\\\\n",
       "\\end{tabular}\n"
      ],
      "text/markdown": [
       "\n",
       "A tibble: 1 × 5\n",
       "\n",
       "| STG &lt;dbl&gt; | SCG &lt;dbl&gt; | STR &lt;dbl&gt; | LPR &lt;dbl&gt; | PEG &lt;dbl&gt; |\n",
       "|---|---|---|---|---|\n",
       "| 0.99 | 0.9 | 0.95 | 0.99 | 0.93 |\n",
       "\n"
      ],
      "text/plain": [
       "  STG  SCG STR  LPR  PEG \n",
       "1 0.99 0.9 0.95 0.99 0.93"
      ]
     },
     "metadata": {},
     "output_type": "display_data"
    },
    {
     "name": "stdout",
     "output_type": "stream",
     "text": [
      "[1] \"The minimum value of each predictors\"\n"
     ]
    },
    {
     "data": {
      "text/html": [
       "<table>\n",
       "<caption>A tibble: 1 × 5</caption>\n",
       "<thead>\n",
       "\t<tr><th scope=col>STG</th><th scope=col>SCG</th><th scope=col>STR</th><th scope=col>LPR</th><th scope=col>PEG</th></tr>\n",
       "\t<tr><th scope=col>&lt;dbl&gt;</th><th scope=col>&lt;dbl&gt;</th><th scope=col>&lt;dbl&gt;</th><th scope=col>&lt;dbl&gt;</th><th scope=col>&lt;dbl&gt;</th></tr>\n",
       "</thead>\n",
       "<tbody>\n",
       "\t<tr><td>0</td><td>0</td><td>0</td><td>0</td><td>0</td></tr>\n",
       "</tbody>\n",
       "</table>\n"
      ],
      "text/latex": [
       "A tibble: 1 × 5\n",
       "\\begin{tabular}{lllll}\n",
       " STG & SCG & STR & LPR & PEG\\\\\n",
       " <dbl> & <dbl> & <dbl> & <dbl> & <dbl>\\\\\n",
       "\\hline\n",
       "\t 0 & 0 & 0 & 0 & 0\\\\\n",
       "\\end{tabular}\n"
      ],
      "text/markdown": [
       "\n",
       "A tibble: 1 × 5\n",
       "\n",
       "| STG &lt;dbl&gt; | SCG &lt;dbl&gt; | STR &lt;dbl&gt; | LPR &lt;dbl&gt; | PEG &lt;dbl&gt; |\n",
       "|---|---|---|---|---|\n",
       "| 0 | 0 | 0 | 0 | 0 |\n",
       "\n"
      ],
      "text/plain": [
       "  STG SCG STR LPR PEG\n",
       "1 0   0   0   0   0  "
      ]
     },
     "metadata": {},
     "output_type": "display_data"
    },
    {
     "name": "stdout",
     "output_type": "stream",
     "text": [
      "[1] \"The average value of each predictors\"\n"
     ]
    },
    {
     "data": {
      "text/html": [
       "<table>\n",
       "<caption>A tibble: 1 × 5</caption>\n",
       "<thead>\n",
       "\t<tr><th scope=col>STG</th><th scope=col>SCG</th><th scope=col>STR</th><th scope=col>LPR</th><th scope=col>PEG</th></tr>\n",
       "\t<tr><th scope=col>&lt;dbl&gt;</th><th scope=col>&lt;dbl&gt;</th><th scope=col>&lt;dbl&gt;</th><th scope=col>&lt;dbl&gt;</th><th scope=col>&lt;dbl&gt;</th></tr>\n",
       "</thead>\n",
       "<tbody>\n",
       "\t<tr><td>0.3711473</td><td>0.3556744</td><td>0.4680039</td><td>0.4327132</td><td>0.4585388</td></tr>\n",
       "</tbody>\n",
       "</table>\n"
      ],
      "text/latex": [
       "A tibble: 1 × 5\n",
       "\\begin{tabular}{lllll}\n",
       " STG & SCG & STR & LPR & PEG\\\\\n",
       " <dbl> & <dbl> & <dbl> & <dbl> & <dbl>\\\\\n",
       "\\hline\n",
       "\t 0.3711473 & 0.3556744 & 0.4680039 & 0.4327132 & 0.4585388\\\\\n",
       "\\end{tabular}\n"
      ],
      "text/markdown": [
       "\n",
       "A tibble: 1 × 5\n",
       "\n",
       "| STG &lt;dbl&gt; | SCG &lt;dbl&gt; | STR &lt;dbl&gt; | LPR &lt;dbl&gt; | PEG &lt;dbl&gt; |\n",
       "|---|---|---|---|---|\n",
       "| 0.3711473 | 0.3556744 | 0.4680039 | 0.4327132 | 0.4585388 |\n",
       "\n"
      ],
      "text/plain": [
       "  STG       SCG       STR       LPR       PEG      \n",
       "1 0.3711473 0.3556744 0.4680039 0.4327132 0.4585388"
      ]
     },
     "metadata": {},
     "output_type": "display_data"
    }
   ],
   "source": [
    "# summarise the maximum value of each predictors\n",
    "training_data_max <- training_data %>%\n",
    "                     select(-UNS) %>%\n",
    "                     map_df(max)\n",
    "print(\"The maximum value of each predictors\")\n",
    "training_data_max\n",
    "\n",
    "# summarise the minimum value of each predictors\n",
    "training_data_min <- training_data %>%\n",
    "                     select(-UNS) %>%\n",
    "                     map_df(min)\n",
    "print(\"The minimum value of each predictors\")\n",
    "training_data_min\n",
    "\n",
    "# summarise the average value of each predictors\n",
    "training_data_avg <- training_data %>%\n",
    "                     select(-UNS) %>%\n",
    "                     map_df(mean)\n",
    "print(\"The average value of each predictors\")\n",
    "training_data_avg"
   ]
  },
  {
   "cell_type": "markdown",
   "metadata": {},
   "source": [
    "**According to the tables above, we can see the range of each variable is :**\n",
    "* The range of STG, the degree of study time for goal object materails, is [0, 0.99].\n",
    "* The range of SCG, the degree of repetition number of user for goal object materails, is [0, 0.9].\n",
    "* The range of STR, the degree of study time of user for related objects with goal object, is [0, 0.95].\n",
    "* The range of LPR, the exam performance of user for related objects with goal object, is [0, 0.99].\n",
    "* The range of PEG, the exam performance of user for goal objects, is [0, 0.93]."
   ]
  },
  {
   "cell_type": "markdown",
   "metadata": {},
   "source": [
    "**Now, we have some basic ideas about our dataset. In the next step, We want to know which factor(s) is related to our target variable (UNS), in other words, which factor is our explanatory variable. To do this, we need to visualize our data to find out if there is a relationship between STG, SCG, STR, LPR, PEG and UNS.**"
   ]
  },
  {
   "cell_type": "markdown",
   "metadata": {},
   "source": [
    "### Data Visualization\n",
    "To visualize the data, we will use the `ggpairs` function, which returns a matrix of plots for a given dataset. Since we have 5 potential explanatory variables and 1 target variable, it is better to compare the distibution and evaluate the association of them in a whole. The `ggpairs` function provides an efficient way to exploring the distribution and correlation between different quantitative variables and categorical variables.\n",
    "\n",
    "The `columns` argument is used to select the number of columns we want to include in the plot. In this case, we need to put `1:5` here since we have 5 prediction variables in total. \n",
    "\n",
    "We also need to change the font size of correlation values in order to make it fit in the panel and readable. To change the font size, we need to include `upper = list(continuous = wrap('cor', size = ...)` in our `ggpairs` function."
   ]
  },
  {
   "cell_type": "code",
   "execution_count": null,
   "metadata": {},
   "outputs": [],
   "source": [
    "options(repr.plot.width = 14, repr.plot.height = 12)\n",
    "relationship_plot <- ggpairs(training_data, columns = 1:5, \n",
    "                             ggplot2 :: aes(color = UNS), \n",
    "                             upper = list(continuous = wrap('cor', size = 6)), \n",
    "                             title = \"Scatterplot matrix of `user knowledge dataset`\")\n",
    "relationship_plot"
   ]
  },
  {
   "cell_type": "markdown",
   "metadata": {},
   "source": [
    "**By default, the upper panel shows the `correlation` between quantitative variables. The diagnal shows the `density plot` of quantitative variables. The lower panel shows the `scatterplot` and `histogram` of quantitative variables. The right-hand sides shows the `side-by-side boxplot` between quantitative and categorical variables and `bar chart` of the categorical variable.**"
   ]
  },
  {
   "cell_type": "markdown",
   "metadata": {},
   "source": [
    "**Recall from previous information, we have 6 variables in this user knowledge dataset, they are:**\n",
    "\n",
    "* STG : the degree of study time for goal object materails. (Quantitative variable)\n",
    "* SCG : the degree of repetition number of user for goal object materails. (Quantitative variable)\n",
    "* STR : the degree of study time of user for related objects with goal object. (Quantitative variable)\n",
    "* LPR : the exam performance of user for related objects with goal object. (Quantitative variable)\n",
    "* PEG : the exam performance of user for goal objects. (Quantitative variable)\n",
    "* UNS : the knowledge level of users.(Categorical variable)\n"
   ]
  },
  {
   "cell_type": "markdown",
   "metadata": {},
   "source": [
    "**As the graph shown above, we first look at the density plot and histogram for each quantitative variable, as well as the bar chart for categorical variable. The density plots show a distribution of each quantitative variable. The bar chart just shows the distribution of student in each knowledge level. The histograms and side-by-side boxplot shows the differences in the distribution of STG, SCG, STR, LPR and PEG between 4 distinct user knowledge level. These 4 plots give an overall distribution and information about the 6 variables.**\n",
    "\n",
    "**Then, we look at the correlation coefficients between 2 quantitative variables. All of them are pretty close to 0, indicates that there is a weak linear relationship between different quantitative variables. Among all of the correlation coefficients, the maximum is 0.206, which is the value between PEG and STG. This suggests that there is a relatively strong linear relationship between PEG and STG compared to the rest. Then, we took a look at the scatterplots between 2 quantitative variables. Among all the scatterplots, we can observe that all the points are quite dispersed and does not show a clear trend except for the one between PEG and STG. It shows a relatively clear and positive linear relationship between PEG and STG. This is also consistent with our observations from correlation coefficients.**\n",
    "\n",
    "    \n",
    "    \n",
    "    \n"
   ]
  },
  {
   "cell_type": "markdown",
   "metadata": {},
   "source": [
    "**In addiditon, STG represents the degree of study time for goal object materails, PEG represents the exam performance of user for goal objects. By our common sense, the more time a student spend on studying, the better performance they will get in an exam. However, this might be vary between individuals, a genius can get good grades without studying for a long time. It might not be appropriate to use STG (the degree of study time for goal object materails) to predict the UNS (the knowledge level of users).**"
   ]
  },
  {
   "cell_type": "markdown",
   "metadata": {},
   "source": [
    "**Therefore, we can reason that we may be able to use the PEG (the exam performance of user for goal objects) to predict the UNS (the knowledge level of users).**\n"
   ]
  },
  {
   "cell_type": "markdown",
   "metadata": {},
   "source": [
    "## Data Analysis"
   ]
  },
  {
   "cell_type": "code",
   "execution_count": 15,
   "metadata": {},
   "outputs": [
    {
     "data": {
      "image/png": "[encoded data removed]",
      "text/plain": [
       "plot without title"
      ]
     },
     "metadata": {
      "image/png": {
       "height": 420,
       "width": 420
      }
     },
     "output_type": "display_data"
    }
   ],
   "source": [
    "\n",
    "# data analysis with PEG as the only predictor for UNS\n",
    "\n",
    "# set the seed\n",
    "set.seed(12)\n",
    "\n",
    "# scale & center training data\n",
    "knowledge_recipe <- recipe(UNS ~ PEG, data = training_data) %>%\n",
    "  step_scale(all_predictors()) %>%\n",
    "  step_center(all_predictors())\n",
    "\n",
    "# create knn model\n",
    "knn_spec <- nearest_neighbor(weight_func = \"rectangular\", \n",
    "                             neighbors = tune()) %>%\n",
    "  set_engine(\"kknn\") %>%\n",
    "  set_mode(\"classification\")\n",
    "\n",
    "# create fold\n",
    "knowledge_vfold <- vfold_cv(training_data, v = 5, strata = UNS)\n",
    "\n",
    "# specify k vals to tune\n",
    "k_vals <- tibble(neighbors = seq(from = 1, to = 10))\n",
    "\n",
    "# fit the knn model & aggregate accuracy results to a metric \n",
    "knn_results <- workflow() %>%\n",
    "                  add_recipe(knowledge_recipe) %>%\n",
    "                  add_model(knn_spec) %>%\n",
    "\t\t\t\t  tune_grid(resamples = knowledge_vfold, grid = k_vals) %>%\n",
    "                  collect_metrics()\n",
    "\n",
    "accuracies <- knn_results %>%\n",
    "  filter(.metric == \"accuracy\")\n",
    "\n",
    "# plot accuracies \n",
    "accuracy_vs_k <- ggplot(accuracies, aes(x = neighbors, y = mean)) +\n",
    "  geom_point() +\n",
    "  geom_line() +\n",
    "  labs(x = \"Neighbors\", y = \"Accuracy Estimate\") + \n",
    "  theme(text = element_text(size = 12))\n",
    "\n",
    "# determine the best K\n",
    "accuracy_vs_k\n",
    "\n",
    "# as seen from the graph, the best K is 8\n"
   ]
  },
  {
   "cell_type": "code",
   "execution_count": 27,
   "metadata": {},
   "outputs": [
    {
     "data": {
      "text/html": [
       "<table>\n",
       "<caption>A tibble: 145 × 7</caption>\n",
       "<thead>\n",
       "\t<tr><th scope=col>.pred_class</th><th scope=col>STG</th><th scope=col>SCG</th><th scope=col>STR</th><th scope=col>LPR</th><th scope=col>PEG</th><th scope=col>UNS</th></tr>\n",
       "\t<tr><th scope=col>&lt;fct&gt;</th><th scope=col>&lt;dbl&gt;</th><th scope=col>&lt;dbl&gt;</th><th scope=col>&lt;dbl&gt;</th><th scope=col>&lt;dbl&gt;</th><th scope=col>&lt;dbl&gt;</th><th scope=col>&lt;fct&gt;</th></tr>\n",
       "</thead>\n",
       "<tbody>\n",
       "\t<tr><td>very_low</td><td>0.00</td><td>0.10</td><td>0.50</td><td>0.26</td><td>0.05</td><td>Very Low</td></tr>\n",
       "\t<tr><td>Low     </td><td>0.05</td><td>0.05</td><td>0.55</td><td>0.60</td><td>0.14</td><td>Low     </td></tr>\n",
       "\t<tr><td>High    </td><td>0.08</td><td>0.18</td><td>0.63</td><td>0.60</td><td>0.85</td><td>High    </td></tr>\n",
       "\t<tr><td>⋮</td><td>⋮</td><td>⋮</td><td>⋮</td><td>⋮</td><td>⋮</td><td>⋮</td></tr>\n",
       "\t<tr><td>Low   </td><td>0.56</td><td>0.60</td><td>0.77</td><td>0.13</td><td>0.32</td><td>Low   </td></tr>\n",
       "\t<tr><td>Middle</td><td>0.66</td><td>0.68</td><td>0.81</td><td>0.57</td><td>0.57</td><td>Middle</td></tr>\n",
       "\t<tr><td>Low   </td><td>0.68</td><td>0.64</td><td>0.79</td><td>0.97</td><td>0.24</td><td>Middle</td></tr>\n",
       "</tbody>\n",
       "</table>\n"
      ],
      "text/latex": [
       "A tibble: 145 × 7\n",
       "\\begin{tabular}{lllllll}\n",
       " .pred\\_class & STG & SCG & STR & LPR & PEG & UNS\\\\\n",
       " <fct> & <dbl> & <dbl> & <dbl> & <dbl> & <dbl> & <fct>\\\\\n",
       "\\hline\n",
       "\t very\\_low & 0.00 & 0.10 & 0.50 & 0.26 & 0.05 & Very Low\\\\\n",
       "\t Low      & 0.05 & 0.05 & 0.55 & 0.60 & 0.14 & Low     \\\\\n",
       "\t High     & 0.08 & 0.18 & 0.63 & 0.60 & 0.85 & High    \\\\\n",
       "\t ⋮ & ⋮ & ⋮ & ⋮ & ⋮ & ⋮ & ⋮\\\\\n",
       "\t Low    & 0.56 & 0.60 & 0.77 & 0.13 & 0.32 & Low   \\\\\n",
       "\t Middle & 0.66 & 0.68 & 0.81 & 0.57 & 0.57 & Middle\\\\\n",
       "\t Low    & 0.68 & 0.64 & 0.79 & 0.97 & 0.24 & Middle\\\\\n",
       "\\end{tabular}\n"
      ],
      "text/markdown": [
       "\n",
       "A tibble: 145 × 7\n",
       "\n",
       "| .pred_class &lt;fct&gt; | STG &lt;dbl&gt; | SCG &lt;dbl&gt; | STR &lt;dbl&gt; | LPR &lt;dbl&gt; | PEG &lt;dbl&gt; | UNS &lt;fct&gt; |\n",
       "|---|---|---|---|---|---|---|\n",
       "| very_low | 0.00 | 0.10 | 0.50 | 0.26 | 0.05 | Very Low |\n",
       "| Low      | 0.05 | 0.05 | 0.55 | 0.60 | 0.14 | Low      |\n",
       "| High     | 0.08 | 0.18 | 0.63 | 0.60 | 0.85 | High     |\n",
       "| ⋮ | ⋮ | ⋮ | ⋮ | ⋮ | ⋮ | ⋮ |\n",
       "| Low    | 0.56 | 0.60 | 0.77 | 0.13 | 0.32 | Low    |\n",
       "| Middle | 0.66 | 0.68 | 0.81 | 0.57 | 0.57 | Middle |\n",
       "| Low    | 0.68 | 0.64 | 0.79 | 0.97 | 0.24 | Middle |\n",
       "\n"
      ],
      "text/plain": [
       "    .pred_class STG  SCG  STR  LPR  PEG  UNS     \n",
       "1   very_low    0.00 0.10 0.50 0.26 0.05 Very Low\n",
       "2   Low         0.05 0.05 0.55 0.60 0.14 Low     \n",
       "3   High        0.08 0.18 0.63 0.60 0.85 High    \n",
       "⋮   ⋮           ⋮    ⋮    ⋮    ⋮    ⋮    ⋮       \n",
       "143 Low         0.56 0.60 0.77 0.13 0.32 Low     \n",
       "144 Middle      0.66 0.68 0.81 0.57 0.57 Middle  \n",
       "145 Low         0.68 0.64 0.79 0.97 0.24 Middle  "
      ]
     },
     "metadata": {},
     "output_type": "display_data"
    }
   ],
   "source": [
    "knowledge_recipe <- recipe(UNS ~ PEG, data = training_data) %>%\n",
    "  step_scale(all_predictors()) %>%\n",
    "  step_center(all_predictors())\n",
    "\n",
    "knn_spec <- nearest_neighbor(weight_func = \"rectangular\", neighbors = 8) %>%\n",
    "  set_engine(\"kknn\") %>%\n",
    "  set_mode(\"classification\")\n",
    "\n",
    "knn_fit <- workflow() %>%\n",
    "  add_recipe(knowledge_recipe) %>%\n",
    "  add_model(knn_spec) %>%\n",
    "  fit(data = training_data)\n",
    "\n",
    "uns_test_predictions <- predict(knn_fit, test_data) %>%\n",
    "  bind_cols(test_data)\n",
    "\n",
    "# uns_test_predictions %>%\n",
    "#   metrics(truth = UNS, estimate = .pred_class) %>%\n",
    "#   filter(.metric == \"accuracy\")\n",
    "\n",
    "\n",
    "# # confusion <- cancer_test_predictions %>%\n",
    "# #              conf_mat(truth = UNS, estimate = .pred_class)\n",
    "\n",
    "uns_test_predictions"
   ]
  },
  {
   "cell_type": "code",
   "execution_count": 30,
   "metadata": {},
   "outputs": [
    {
     "data": {
      "image/png": "[encoded data removed]",
      "text/plain": [
       "plot without title"
      ]
     },
     "metadata": {
      "image/png": {
       "height": 420,
       "width": 420
      }
     },
     "output_type": "display_data"
    }
   ],
   "source": [
    "# data analysis with PEG and LPR as the predictors for UNS\n",
    "\n",
    "set.seed(12)\n",
    "\n",
    "## create a recipe\n",
    "data_recipe <- recipe(UNS ~ PEG + LPR, data = training_data) %>%\n",
    "               step_scale(all_predictors()) %>%\n",
    "               step_center(all_predictors())\n",
    "\n",
    "## create knn classifier\n",
    "knn_spec <- nearest_neighbor(weight_func = \"rectangular\", neighbors = tune()) %>%\n",
    "            set_engine(\"kknn\") %>%\n",
    "            set_mode(\"classification\")\n",
    "\n",
    "## perform 5-fold cross-validation\n",
    "data_vfold <- vfold_cv(training_data, v = 5, strata = UNS)\n",
    "\n",
    "## create a tune_grid\n",
    "k_vals <- tibble(neighbors = seq(from = 1, to = 10))\n",
    "\n",
    "## get the results\n",
    "data_results <- workflow() %>%\n",
    "                add_recipe(data_recipe) %>%\n",
    "                add_model(knn_spec) %>%\n",
    "                tune_grid(resamples = data_vfold, grid = k_vals) %>%\n",
    "                collect_metrics()\n",
    "\n",
    "## filter accuracy\n",
    "accuracies <- data_results %>%\n",
    "              filter(.metric == \"accuracy\")\n",
    "\n",
    "## plot the accuracy versus k\n",
    "accuracy_plot <- ggplot(accuracies, aes(x = neighbors, y = mean)) +\n",
    "                 geom_point() +\n",
    "                 geom_line() +\n",
    "                 labs(x = \"Neighbors\", y = \"Accuracy Estimation\") +\n",
    "                 theme(text = element_text(size = 20))\n",
    "accuracy_plot"
   ]
  },
  {
   "cell_type": "code",
   "execution_count": 31,
   "metadata": {},
   "outputs": [
    {
     "data": {
      "text/html": [
       "<table>\n",
       "<caption>A tibble: 145 × 7</caption>\n",
       "<thead>\n",
       "\t<tr><th scope=col>.pred_class</th><th scope=col>STG</th><th scope=col>SCG</th><th scope=col>STR</th><th scope=col>LPR</th><th scope=col>PEG</th><th scope=col>UNS</th></tr>\n",
       "\t<tr><th scope=col>&lt;fct&gt;</th><th scope=col>&lt;dbl&gt;</th><th scope=col>&lt;dbl&gt;</th><th scope=col>&lt;dbl&gt;</th><th scope=col>&lt;dbl&gt;</th><th scope=col>&lt;dbl&gt;</th><th scope=col>&lt;fct&gt;</th></tr>\n",
       "</thead>\n",
       "<tbody>\n",
       "\t<tr><td>very_low</td><td>0.00</td><td>0.10</td><td>0.50</td><td>0.26</td><td>0.05</td><td>Very Low</td></tr>\n",
       "\t<tr><td>Low     </td><td>0.05</td><td>0.05</td><td>0.55</td><td>0.60</td><td>0.14</td><td>Low     </td></tr>\n",
       "\t<tr><td>High    </td><td>0.08</td><td>0.18</td><td>0.63</td><td>0.60</td><td>0.85</td><td>High    </td></tr>\n",
       "\t<tr><td>⋮</td><td>⋮</td><td>⋮</td><td>⋮</td><td>⋮</td><td>⋮</td><td>⋮</td></tr>\n",
       "\t<tr><td>Low   </td><td>0.56</td><td>0.60</td><td>0.77</td><td>0.13</td><td>0.32</td><td>Low   </td></tr>\n",
       "\t<tr><td>Middle</td><td>0.66</td><td>0.68</td><td>0.81</td><td>0.57</td><td>0.57</td><td>Middle</td></tr>\n",
       "\t<tr><td>Middle</td><td>0.68</td><td>0.64</td><td>0.79</td><td>0.97</td><td>0.24</td><td>Middle</td></tr>\n",
       "</tbody>\n",
       "</table>\n"
      ],
      "text/latex": [
       "A tibble: 145 × 7\n",
       "\\begin{tabular}{lllllll}\n",
       " .pred\\_class & STG & SCG & STR & LPR & PEG & UNS\\\\\n",
       " <fct> & <dbl> & <dbl> & <dbl> & <dbl> & <dbl> & <fct>\\\\\n",
       "\\hline\n",
       "\t very\\_low & 0.00 & 0.10 & 0.50 & 0.26 & 0.05 & Very Low\\\\\n",
       "\t Low      & 0.05 & 0.05 & 0.55 & 0.60 & 0.14 & Low     \\\\\n",
       "\t High     & 0.08 & 0.18 & 0.63 & 0.60 & 0.85 & High    \\\\\n",
       "\t ⋮ & ⋮ & ⋮ & ⋮ & ⋮ & ⋮ & ⋮\\\\\n",
       "\t Low    & 0.56 & 0.60 & 0.77 & 0.13 & 0.32 & Low   \\\\\n",
       "\t Middle & 0.66 & 0.68 & 0.81 & 0.57 & 0.57 & Middle\\\\\n",
       "\t Middle & 0.68 & 0.64 & 0.79 & 0.97 & 0.24 & Middle\\\\\n",
       "\\end{tabular}\n"
      ],
      "text/markdown": [
       "\n",
       "A tibble: 145 × 7\n",
       "\n",
       "| .pred_class &lt;fct&gt; | STG &lt;dbl&gt; | SCG &lt;dbl&gt; | STR &lt;dbl&gt; | LPR &lt;dbl&gt; | PEG &lt;dbl&gt; | UNS &lt;fct&gt; |\n",
       "|---|---|---|---|---|---|---|\n",
       "| very_low | 0.00 | 0.10 | 0.50 | 0.26 | 0.05 | Very Low |\n",
       "| Low      | 0.05 | 0.05 | 0.55 | 0.60 | 0.14 | Low      |\n",
       "| High     | 0.08 | 0.18 | 0.63 | 0.60 | 0.85 | High     |\n",
       "| ⋮ | ⋮ | ⋮ | ⋮ | ⋮ | ⋮ | ⋮ |\n",
       "| Low    | 0.56 | 0.60 | 0.77 | 0.13 | 0.32 | Low    |\n",
       "| Middle | 0.66 | 0.68 | 0.81 | 0.57 | 0.57 | Middle |\n",
       "| Middle | 0.68 | 0.64 | 0.79 | 0.97 | 0.24 | Middle |\n",
       "\n"
      ],
      "text/plain": [
       "    .pred_class STG  SCG  STR  LPR  PEG  UNS     \n",
       "1   very_low    0.00 0.10 0.50 0.26 0.05 Very Low\n",
       "2   Low         0.05 0.05 0.55 0.60 0.14 Low     \n",
       "3   High        0.08 0.18 0.63 0.60 0.85 High    \n",
       "⋮   ⋮           ⋮    ⋮    ⋮    ⋮    ⋮    ⋮       \n",
       "143 Low         0.56 0.60 0.77 0.13 0.32 Low     \n",
       "144 Middle      0.66 0.68 0.81 0.57 0.57 Middle  \n",
       "145 Middle      0.68 0.64 0.79 0.97 0.24 Middle  "
      ]
     },
     "metadata": {},
     "output_type": "display_data"
    },
    {
     "ename": "ERROR",
     "evalue": "Error: In metric: `accuracy`\nProblem with `summarise()` input `.estimate`.\n\u001b[31m✖\u001b[39m `truth` and `estimate` levels must be equivalent.\n`truth`: Very Low, Low, High, Middle\n`estimate`: very_low, High, Low, Middle\n\n\u001b[34mℹ\u001b[39m Input `.estimate` is `metric_fn(truth = UNS, estimate = .pred_class, na_rm = na_rm)`.\n",
     "output_type": "error",
     "traceback": [
      "Error: In metric: `accuracy`\nProblem with `summarise()` input `.estimate`.\n\u001b[31m✖\u001b[39m `truth` and `estimate` levels must be equivalent.\n`truth`: Very Low, Low, High, Middle\n`estimate`: very_low, High, Low, Middle\n\n\u001b[34mℹ\u001b[39m Input `.estimate` is `metric_fn(truth = UNS, estimate = .pred_class, na_rm = na_rm)`.\nTraceback:\n",
      "1. testing_data_predictions %>% metrics(truth = UNS, estimate = .pred_class)",
      "2. withVisible(eval(quote(`_fseq`(`_lhs`)), env, env))",
      "3. eval(quote(`_fseq`(`_lhs`)), env, env)",
      "4. eval(quote(`_fseq`(`_lhs`)), env, env)",
      "5. `_fseq`(`_lhs`)",
      "6. freduce(value, `_function_list`)",
      "7. withVisible(function_list[[k]](value))",
      "8. function_list[[k]](value)",
      "9. metrics(., truth = UNS, estimate = .pred_class)",
      "10. metrics.data.frame(., truth = UNS, estimate = .pred_class)",
      "11. metrics_class(data, !!vars$truth, estimate = !!vars$estimate)",
      "12. mapply(FUN = eval_safely, class_calls, names(class_calls), SIMPLIFY = FALSE, \n  .     USE.NAMES = FALSE)",
      "13. (function (expr, expr_nm, data = NULL, env = caller_env()) \n  . {\n  .     tryCatch(expr = {\n  .         eval_tidy(expr, data = data, env = env)\n  .     }, error = function(e) {\n  .         abort(paste0(\"In metric: `\", expr_nm, \"`\\n\", e$message))\n  .     })\n  . })(dots[[1L]][[1L]], dots[[2L]][[1L]])",
      "14. tryCatch(expr = {\n  .     eval_tidy(expr, data = data, env = env)\n  . }, error = function(e) {\n  .     abort(paste0(\"In metric: `\", expr_nm, \"`\\n\", e$message))\n  . })",
      "15. tryCatchList(expr, classes, parentenv, handlers)",
      "16. tryCatchOne(expr, names, parentenv, handlers[[1L]])",
      "17. value[[3L]](cond)",
      "18. abort(paste0(\"In metric: `\", expr_nm, \"`\\n\", e$message))",
      "19. signal_abort(cnd)"
     ]
    }
   ],
   "source": [
    "## create the new knn classifier\n",
    "new_knn_spec <- nearest_neighbor(weight_func = \"rectangular\", neighbors = 5) %>%\n",
    "                set_engine(\"kknn\") %>%\n",
    "                set_mode(\"classification\")\n",
    "\n",
    "## create a new wokflow\n",
    "knn_fit <- workflow() %>%\n",
    "           add_recipe(data_recipe) %>%\n",
    "           add_model(new_knn_spec) %>%\n",
    "           fit(data = training_data)\n",
    "\n",
    "## predict the test data\n",
    "testing_data_predictions <- predict(knn_fit, test_data) %>%\n",
    "                            bind_cols(test_data)\n",
    "testing_data_predictions\n",
    "\n",
    "## check the accuracy\n",
    "test_prediction <- testing_data_predictions %>% \n",
    "                   metrics(truth = UNS, estimate = .pred_class)\n",
    "test_prediction\n",
    "## check the confusion matrix\n",
    "test_confusion <- test_prediction %>%\n",
    "                  conf_mat(truth = UNS, estimate = .pred_class)"
   ]
  },
  {
   "cell_type": "markdown",
   "metadata": {},
   "source": [
    "## Citation\n",
    "Dua, D. and Graff, C. (2019). <a href=\"http://archive.ics.uci.edu/ml\" target=\"_blank\">UCI Machine Learning Repository</a>. Irvine, CA: University of California, School of Information and Computer Science.\n",
    "\n",
    "H. T. Kahraman, Sagiroglu, S., Colak, I., Developing intuitive knowledge classifier and modeling of users' domain dependent data in web, Knowledge Based Systems, vol. 37, pp. 283-295, 2013."
   ]
  },
  {
   "cell_type": "code",
   "execution_count": null,
   "metadata": {},
   "outputs": [],
   "source": []
  }
 ],
 "metadata": {
  "kernelspec": {
   "display_name": "R",
   "language": "R",
   "name": "ir"
  },
  "language_info": {
   "codemirror_mode": "r",
   "file_extension": ".r",
   "mimetype": "text/x-r-source",
   "name": "R",
   "pygments_lexer": "r",
   "version": "4.0.0"
  }
 },
 "nbformat": 4,
 "nbformat_minor": 4
}
