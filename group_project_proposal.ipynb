{
 "cells": [
  {
   "cell_type": "markdown",
   "metadata": {},
   "source": [
    "# Group 8 Project Proposal - User Knowledge"
   ]
  },
  {
   "cell_type": "markdown",
   "metadata": {},
   "source": [
    "### Authors: Minting Fu, Zeti Batrisha Jamiluddin Amini, Liz Ji, Caroline Zhang"
   ]
  },
  {
   "cell_type": "markdown",
   "metadata": {},
   "source": [
    "## INTRODUCTION"
   ]
  },
  {
   "cell_type": "markdown",
   "metadata": {},
   "source": [
    "### Background Information"
   ]
  },
  {
   "cell_type": "markdown",
   "metadata": {},
   "source": [
    "To have a better understanding of students/users, the user modeling system (UMS) will be used. \"UMS tracks students’ learning activities, navigation paths and stores this data in their user model. This data are used as input data by a user modeling algorithm aimed at creating a consistent description of the model of students. After that, the input data\n",
    "is used to create and to update user knowledge model\" (Kahraman, Sagiroglu, Colak, 2013). In this study, we are going to explore the user knowledge model."
   ]
  },
  {
   "cell_type": "markdown",
   "metadata": {},
   "source": [
    "### Questions"
   ]
  },
  {
   "cell_type": "markdown",
   "metadata": {},
   "source": [
    "In this project, there are two questions we would like to investigate.\n",
    "\n",
    "1. Which factor contributes the most to the UNS (the knowledge level of user)?\n",
    "2. Can we predict the UNS given the STG, SCG, STR, LPR, PEG of a student?"
   ]
  },
  {
   "cell_type": "markdown",
   "metadata": {},
   "source": [
    "### Dataset Description"
   ]
  },
  {
   "cell_type": "markdown",
   "metadata": {},
   "source": [
    "We are using the User Knowledge Modeling Data Set from UCI Machine Learning Repository. The link of the dataset is https://archive.ics.uci.edu/ml/datasets/User+Knowledge+Modeling#. The user modeling system (UMS) classifies the knowledge levels (UNS) of users depending on the real-values of five arrtibutes. They are: \n",
    " \n",
    "- STG : The degree of study time for goal object materails.\n",
    "- SCG : The degree of repetition number of user for goal object materails.\n",
    "- STR : The degree of study time of user for related objects with goal object.\n",
    "- LPR : The exam performance of user for related objects with goal object.\n",
    "- PEG : The exam performance of user for goal objects.\n",
    "- UNS : The knowledge level of user.\n"
   ]
  },
  {
   "cell_type": "markdown",
   "metadata": {},
   "source": [
    "### Citation"
   ]
  },
  {
   "cell_type": "markdown",
   "metadata": {},
   "source": [
    "Dua, D. and Graff, C. (2019). UCI Machine Learning Repository [http://archive.ics.uci.edu/ml]. Irvine, CA: University of California, School of Information and Computer Science.\n",
    "\n",
    "H. T. Kahraman, Sagiroglu, S., Colak, I., Developing intuitive knowledge classifier and modeling of users' domain dependent data in web, Knowledge Based Systems, vol. 37, pp. 283-295, 2013."
   ]
  },
  {
   "cell_type": "code",
   "execution_count": null,
   "metadata": {},
   "outputs": [],
   "source": []
  }
 ],
 "metadata": {
  "kernelspec": {
   "display_name": "R",
   "language": "R",
   "name": "ir"
  },
  "language_info": {
   "codemirror_mode": "r",
   "file_extension": ".r",
   "mimetype": "text/x-r-source",
   "name": "R",
   "pygments_lexer": "r",
   "version": "4.0.0"
  }
 },
 "nbformat": 4,
 "nbformat_minor": 4
}
